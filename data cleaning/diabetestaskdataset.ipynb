{
 "cells": [
  {
   "cell_type": "code",
   "execution_count": 1,
   "id": "70053db0",
   "metadata": {
    "_cell_guid": "b1076dfc-b9ad-4769-8c92-a6c4dae69d19",
    "_uuid": "8f2839f25d086af736a60e9eeb907d3b93b6e0e5",
    "execution": {
     "iopub.execute_input": "2024-08-01T16:35:25.815858Z",
     "iopub.status.busy": "2024-08-01T16:35:25.815495Z",
     "iopub.status.idle": "2024-08-01T16:35:40.406130Z",
     "shell.execute_reply": "2024-08-01T16:35:40.405089Z"
    },
    "papermill": {
     "duration": 14.59853,
     "end_time": "2024-08-01T16:35:40.408504",
     "exception": false,
     "start_time": "2024-08-01T16:35:25.809974",
     "status": "completed"
    },
    "tags": []
   },
   "outputs": [
    {
     "name": "stderr",
     "output_type": "stream",
     "text": [
      "2024-08-01 16:35:29.919403: E external/local_xla/xla/stream_executor/cuda/cuda_dnn.cc:9261] Unable to register cuDNN factory: Attempting to register factory for plugin cuDNN when one has already been registered\n",
      "2024-08-01 16:35:29.919517: E external/local_xla/xla/stream_executor/cuda/cuda_fft.cc:607] Unable to register cuFFT factory: Attempting to register factory for plugin cuFFT when one has already been registered\n",
      "2024-08-01 16:35:30.064295: E external/local_xla/xla/stream_executor/cuda/cuda_blas.cc:1515] Unable to register cuBLAS factory: Attempting to register factory for plugin cuBLAS when one has already been registered\n"
     ]
    }
   ],
   "source": [
    "import numpy as np\n",
    "import pandas as pd\n",
    "import seaborn as sns\n",
    "from sklearn.model_selection import train_test_split\n",
    "import tensorflow as tf\n",
    "from tensorflow import keras"
   ]
  },
  {
   "cell_type": "code",
   "execution_count": 2,
   "id": "c2394097",
   "metadata": {
    "execution": {
     "iopub.execute_input": "2024-08-01T16:35:40.424755Z",
     "iopub.status.busy": "2024-08-01T16:35:40.423982Z",
     "iopub.status.idle": "2024-08-01T16:35:40.468561Z",
     "shell.execute_reply": "2024-08-01T16:35:40.467596Z"
    },
    "papermill": {
     "duration": 0.052096,
     "end_time": "2024-08-01T16:35:40.470739",
     "exception": false,
     "start_time": "2024-08-01T16:35:40.418643",
     "status": "completed"
    },
    "tags": []
   },
   "outputs": [
    {
     "data": {
      "text/html": [
       "<div>\n",
       "<style scoped>\n",
       "    .dataframe tbody tr th:only-of-type {\n",
       "        vertical-align: middle;\n",
       "    }\n",
       "\n",
       "    .dataframe tbody tr th {\n",
       "        vertical-align: top;\n",
       "    }\n",
       "\n",
       "    .dataframe thead th {\n",
       "        text-align: right;\n",
       "    }\n",
       "</style>\n",
       "<table border=\"1\" class=\"dataframe\">\n",
       "  <thead>\n",
       "    <tr style=\"text-align: right;\">\n",
       "      <th></th>\n",
       "      <th>Pregnancies</th>\n",
       "      <th>Glucose</th>\n",
       "      <th>BloodPressure</th>\n",
       "      <th>SkinThickness</th>\n",
       "      <th>Insulin</th>\n",
       "      <th>BMI</th>\n",
       "      <th>DiabetesPedigreeFunction</th>\n",
       "      <th>Age</th>\n",
       "      <th>Outcome</th>\n",
       "    </tr>\n",
       "  </thead>\n",
       "  <tbody>\n",
       "    <tr>\n",
       "      <th>0</th>\n",
       "      <td>6</td>\n",
       "      <td>148</td>\n",
       "      <td>72</td>\n",
       "      <td>35</td>\n",
       "      <td>0</td>\n",
       "      <td>33.6</td>\n",
       "      <td>0.627</td>\n",
       "      <td>50</td>\n",
       "      <td>1</td>\n",
       "    </tr>\n",
       "    <tr>\n",
       "      <th>1</th>\n",
       "      <td>1</td>\n",
       "      <td>85</td>\n",
       "      <td>66</td>\n",
       "      <td>29</td>\n",
       "      <td>0</td>\n",
       "      <td>26.6</td>\n",
       "      <td>0.351</td>\n",
       "      <td>31</td>\n",
       "      <td>0</td>\n",
       "    </tr>\n",
       "    <tr>\n",
       "      <th>2</th>\n",
       "      <td>8</td>\n",
       "      <td>183</td>\n",
       "      <td>64</td>\n",
       "      <td>0</td>\n",
       "      <td>0</td>\n",
       "      <td>23.3</td>\n",
       "      <td>0.672</td>\n",
       "      <td>32</td>\n",
       "      <td>1</td>\n",
       "    </tr>\n",
       "    <tr>\n",
       "      <th>3</th>\n",
       "      <td>1</td>\n",
       "      <td>89</td>\n",
       "      <td>66</td>\n",
       "      <td>23</td>\n",
       "      <td>94</td>\n",
       "      <td>28.1</td>\n",
       "      <td>0.167</td>\n",
       "      <td>21</td>\n",
       "      <td>0</td>\n",
       "    </tr>\n",
       "    <tr>\n",
       "      <th>4</th>\n",
       "      <td>0</td>\n",
       "      <td>137</td>\n",
       "      <td>40</td>\n",
       "      <td>35</td>\n",
       "      <td>168</td>\n",
       "      <td>43.1</td>\n",
       "      <td>2.288</td>\n",
       "      <td>33</td>\n",
       "      <td>1</td>\n",
       "    </tr>\n",
       "  </tbody>\n",
       "</table>\n",
       "</div>"
      ],
      "text/plain": [
       "   Pregnancies  Glucose  BloodPressure  SkinThickness  Insulin   BMI  \\\n",
       "0            6      148             72             35        0  33.6   \n",
       "1            1       85             66             29        0  26.6   \n",
       "2            8      183             64              0        0  23.3   \n",
       "3            1       89             66             23       94  28.1   \n",
       "4            0      137             40             35      168  43.1   \n",
       "\n",
       "   DiabetesPedigreeFunction  Age  Outcome  \n",
       "0                     0.627   50        1  \n",
       "1                     0.351   31        0  \n",
       "2                     0.672   32        1  \n",
       "3                     0.167   21        0  \n",
       "4                     2.288   33        1  "
      ]
     },
     "execution_count": 2,
     "metadata": {},
     "output_type": "execute_result"
    }
   ],
   "source": [
    "data = pd.read_csv(\"/kaggle/input/diabetes-dataset/diabetes.csv\")\n",
    "data.head()"
   ]
  },
  {
   "cell_type": "code",
   "execution_count": 3,
   "id": "ec59759a",
   "metadata": {
    "execution": {
     "iopub.execute_input": "2024-08-01T16:35:40.480192Z",
     "iopub.status.busy": "2024-08-01T16:35:40.479864Z",
     "iopub.status.idle": "2024-08-01T16:35:40.501521Z",
     "shell.execute_reply": "2024-08-01T16:35:40.500609Z"
    },
    "papermill": {
     "duration": 0.028894,
     "end_time": "2024-08-01T16:35:40.503776",
     "exception": false,
     "start_time": "2024-08-01T16:35:40.474882",
     "status": "completed"
    },
    "tags": []
   },
   "outputs": [
    {
     "name": "stdout",
     "output_type": "stream",
     "text": [
      "<class 'pandas.core.frame.DataFrame'>\n",
      "RangeIndex: 768 entries, 0 to 767\n",
      "Data columns (total 9 columns):\n",
      " #   Column                    Non-Null Count  Dtype  \n",
      "---  ------                    --------------  -----  \n",
      " 0   Pregnancies               768 non-null    int64  \n",
      " 1   Glucose                   768 non-null    int64  \n",
      " 2   BloodPressure             768 non-null    int64  \n",
      " 3   SkinThickness             768 non-null    int64  \n",
      " 4   Insulin                   768 non-null    int64  \n",
      " 5   BMI                       768 non-null    float64\n",
      " 6   DiabetesPedigreeFunction  768 non-null    float64\n",
      " 7   Age                       768 non-null    int64  \n",
      " 8   Outcome                   768 non-null    int64  \n",
      "dtypes: float64(2), int64(7)\n",
      "memory usage: 54.1 KB\n"
     ]
    }
   ],
   "source": [
    "data.info()"
   ]
  },
  {
   "cell_type": "code",
   "execution_count": 4,
   "id": "e428f67e",
   "metadata": {
    "execution": {
     "iopub.execute_input": "2024-08-01T16:35:40.513448Z",
     "iopub.status.busy": "2024-08-01T16:35:40.513126Z",
     "iopub.status.idle": "2024-08-01T16:35:40.520384Z",
     "shell.execute_reply": "2024-08-01T16:35:40.519512Z"
    },
    "papermill": {
     "duration": 0.014439,
     "end_time": "2024-08-01T16:35:40.522510",
     "exception": false,
     "start_time": "2024-08-01T16:35:40.508071",
     "status": "completed"
    },
    "tags": []
   },
   "outputs": [
    {
     "data": {
      "text/plain": [
       "Pregnancies                 0\n",
       "Glucose                     0\n",
       "BloodPressure               0\n",
       "SkinThickness               0\n",
       "Insulin                     0\n",
       "BMI                         0\n",
       "DiabetesPedigreeFunction    0\n",
       "Age                         0\n",
       "Outcome                     0\n",
       "dtype: int64"
      ]
     },
     "execution_count": 4,
     "metadata": {},
     "output_type": "execute_result"
    }
   ],
   "source": [
    "data.isna().sum()"
   ]
  },
  {
   "cell_type": "code",
   "execution_count": 5,
   "id": "c0cc1498",
   "metadata": {
    "execution": {
     "iopub.execute_input": "2024-08-01T16:35:40.532924Z",
     "iopub.status.busy": "2024-08-01T16:35:40.532641Z",
     "iopub.status.idle": "2024-08-01T16:35:40.549810Z",
     "shell.execute_reply": "2024-08-01T16:35:40.548577Z"
    },
    "papermill": {
     "duration": 0.024626,
     "end_time": "2024-08-01T16:35:40.551790",
     "exception": false,
     "start_time": "2024-08-01T16:35:40.527164",
     "status": "completed"
    },
    "tags": []
   },
   "outputs": [
    {
     "name": "stdout",
     "output_type": "stream",
     "text": [
      "##################### Shape #####################\n",
      "(768, 9)\n",
      "##################### Types #####################\n",
      "Pregnancies                   int64\n",
      "Glucose                       int64\n",
      "BloodPressure                 int64\n",
      "SkinThickness                 int64\n",
      "Insulin                       int64\n",
      "BMI                         float64\n",
      "DiabetesPedigreeFunction    float64\n",
      "Age                           int64\n",
      "Outcome                       int64\n",
      "dtype: object\n",
      "##################### Duplicated Values #####################\n",
      "0\n",
      "##################### Missing Values #####################\n",
      "Pregnancies                 0\n",
      "Glucose                     0\n",
      "BloodPressure               0\n",
      "SkinThickness               0\n",
      "Insulin                     0\n",
      "BMI                         0\n",
      "DiabetesPedigreeFunction    0\n",
      "Age                         0\n",
      "Outcome                     0\n",
      "dtype: int64\n",
      "##################### Number of Unique Values #####################\n",
      "Pregnancies                  17\n",
      "Glucose                     136\n",
      "BloodPressure                47\n",
      "SkinThickness                51\n",
      "Insulin                     186\n",
      "BMI                         248\n",
      "DiabetesPedigreeFunction    517\n",
      "Age                          52\n",
      "Outcome                       2\n",
      "dtype: int64\n",
      "##################### Head #####################\n",
      "   Pregnancies  Glucose  BloodPressure  SkinThickness  Insulin   BMI  \\\n",
      "0            6      148             72             35        0  33.6   \n",
      "1            1       85             66             29        0  26.6   \n",
      "2            8      183             64              0        0  23.3   \n",
      "3            1       89             66             23       94  28.1   \n",
      "4            0      137             40             35      168  43.1   \n",
      "\n",
      "   DiabetesPedigreeFunction  Age  Outcome  \n",
      "0                     0.627   50        1  \n",
      "1                     0.351   31        0  \n",
      "2                     0.672   32        1  \n",
      "3                     0.167   21        0  \n",
      "4                     2.288   33        1  \n"
     ]
    }
   ],
   "source": [
    "def check_df(data, head=5):\n",
    "  \n",
    "    print(\"##################### Shape #####################\")\n",
    "    print(data.shape)\n",
    "    \n",
    "    print(\"##################### Types #####################\")\n",
    "    print(data.dtypes)\n",
    "    \n",
    "    print(\"##################### Duplicated Values #####################\")\n",
    "    print(data.duplicated().sum())\n",
    "    \n",
    "    print(\"##################### Missing Values #####################\")\n",
    "    print(data.isnull().sum())\n",
    "    \n",
    "    print(\"##################### Number of Unique Values #####################\")\n",
    "    print(data.nunique())\n",
    "  \n",
    "    print(\"##################### Head #####################\")\n",
    "    print(data.head(head))\n",
    "    \n",
    "check_df(data)"
   ]
  },
  {
   "cell_type": "code",
   "execution_count": 6,
   "id": "6fecd912",
   "metadata": {
    "execution": {
     "iopub.execute_input": "2024-08-01T16:35:40.561740Z",
     "iopub.status.busy": "2024-08-01T16:35:40.561433Z",
     "iopub.status.idle": "2024-08-01T16:35:40.798992Z",
     "shell.execute_reply": "2024-08-01T16:35:40.798145Z"
    },
    "papermill": {
     "duration": 0.24542,
     "end_time": "2024-08-01T16:35:40.801526",
     "exception": false,
     "start_time": "2024-08-01T16:35:40.556106",
     "status": "completed"
    },
    "tags": []
   },
   "outputs": [
    {
     "data": {
      "text/plain": [
       "<Axes: xlabel='Outcome', ylabel='count'>"
      ]
     },
     "execution_count": 6,
     "metadata": {},
     "output_type": "execute_result"
    },
    {
     "data": {
      "image/png": "[encoded data removed]",
      "text/plain": [
       "<Figure size 640x480 with 1 Axes>"
      ]
     },
     "metadata": {},
     "output_type": "display_data"
    }
   ],
   "source": [
    "sns.countplot(data = data, x='Outcome')"
   ]
  },
  {
   "cell_type": "code",
   "execution_count": 7,
   "id": "6e66f67f",
   "metadata": {
    "execution": {
     "iopub.execute_input": "2024-08-01T16:35:40.812509Z",
     "iopub.status.busy": "2024-08-01T16:35:40.812202Z",
     "iopub.status.idle": "2024-08-01T16:35:40.824036Z",
     "shell.execute_reply": "2024-08-01T16:35:40.823288Z"
    },
    "papermill": {
     "duration": 0.019539,
     "end_time": "2024-08-01T16:35:40.825997",
     "exception": false,
     "start_time": "2024-08-01T16:35:40.806458",
     "status": "completed"
    },
    "tags": []
   },
   "outputs": [],
   "source": [
    "X = data.drop(\"Outcome\", axis=1)\n",
    "Y = data[\"Outcome\"]\n",
    "x_train, x_test, y_train, y_test = train_test_split(X, Y, test_size=0.2,shuffle=True, stratify = Y, random_state=42)"
   ]
  },
  {
   "cell_type": "code",
   "execution_count": 8,
   "id": "aa462f00",
   "metadata": {
    "execution": {
     "iopub.execute_input": "2024-08-01T16:35:40.837329Z",
     "iopub.status.busy": "2024-08-01T16:35:40.836621Z",
     "iopub.status.idle": "2024-08-01T16:35:40.842246Z",
     "shell.execute_reply": "2024-08-01T16:35:40.841448Z"
    },
    "papermill": {
     "duration": 0.013213,
     "end_time": "2024-08-01T16:35:40.844107",
     "exception": false,
     "start_time": "2024-08-01T16:35:40.830894",
     "status": "completed"
    },
    "tags": []
   },
   "outputs": [
    {
     "data": {
      "text/plain": [
       "[8]"
      ]
     },
     "execution_count": 8,
     "metadata": {},
     "output_type": "execute_result"
    }
   ],
   "source": [
    "input_shape = [x_train.shape[1]]\n",
    "input_shape"
   ]
  },
  {
   "cell_type": "code",
   "execution_count": 9,
   "id": "e27bb5be",
   "metadata": {
    "execution": {
     "iopub.execute_input": "2024-08-01T16:35:40.855188Z",
     "iopub.status.busy": "2024-08-01T16:35:40.854516Z",
     "iopub.status.idle": "2024-08-01T16:35:41.661678Z",
     "shell.execute_reply": "2024-08-01T16:35:41.660726Z"
    },
    "papermill": {
     "duration": 0.814713,
     "end_time": "2024-08-01T16:35:41.663648",
     "exception": false,
     "start_time": "2024-08-01T16:35:40.848935",
     "status": "completed"
    },
    "tags": []
   },
   "outputs": [
    {
     "name": "stderr",
     "output_type": "stream",
     "text": [
      "/opt/conda/lib/python3.10/site-packages/keras/src/layers/core/dense.py:87: UserWarning: Do not pass an `input_shape`/`input_dim` argument to a layer. When using Sequential models, prefer using an `Input(shape)` object as the first layer in the model instead.\n",
      "  super().__init__(activity_regularizer=activity_regularizer, **kwargs)\n"
     ]
    },
    {
     "data": {
      "text/html": [
       "<pre style=\"white-space:pre;overflow-x:auto;line-height:normal;font-family:Menlo,'DejaVu Sans Mono',consolas,'Courier New',monospace\"><span style=\"font-weight: bold\">Model: \"sequential\"</span>\n",
       "</pre>\n"
      ],
      "text/plain": [
       "\u001b[1mModel: \"sequential\"\u001b[0m\n"
      ]
     },
     "metadata": {},
     "output_type": "display_data"
    },
    {
     "data": {
      "text/html": [
       "<pre style=\"white-space:pre;overflow-x:auto;line-height:normal;font-family:Menlo,'DejaVu Sans Mono',consolas,'Courier New',monospace\">┏━━━━━━━━━━━━━━━━━━━━━━━━━━━━━━━━━┳━━━━━━━━━━━━━━━━━━━━━━━━┳━━━━━━━━━━━━━━━┓\n",
       "┃<span style=\"font-weight: bold\"> Layer (type)                    </span>┃<span style=\"font-weight: bold\"> Output Shape           </span>┃<span style=\"font-weight: bold\">       Param # </span>┃\n",
       "┡━━━━━━━━━━━━━━━━━━━━━━━━━━━━━━━━━╇━━━━━━━━━━━━━━━━━━━━━━━━╇━━━━━━━━━━━━━━━┩\n",
       "│ dense (<span style=\"color: #0087ff; text-decoration-color: #0087ff\">Dense</span>)                   │ (<span style=\"color: #00d7ff; text-decoration-color: #00d7ff\">None</span>, <span style=\"color: #00af00; text-decoration-color: #00af00\">256</span>)            │         <span style=\"color: #00af00; text-decoration-color: #00af00\">2,304</span> │\n",
       "├─────────────────────────────────┼────────────────────────┼───────────────┤\n",
       "│ dense_1 (<span style=\"color: #0087ff; text-decoration-color: #0087ff\">Dense</span>)                 │ (<span style=\"color: #00d7ff; text-decoration-color: #00d7ff\">None</span>, <span style=\"color: #00af00; text-decoration-color: #00af00\">64</span>)             │        <span style=\"color: #00af00; text-decoration-color: #00af00\">16,448</span> │\n",
       "├─────────────────────────────────┼────────────────────────┼───────────────┤\n",
       "│ dense_2 (<span style=\"color: #0087ff; text-decoration-color: #0087ff\">Dense</span>)                 │ (<span style=\"color: #00d7ff; text-decoration-color: #00d7ff\">None</span>, <span style=\"color: #00af00; text-decoration-color: #00af00\">1</span>)              │            <span style=\"color: #00af00; text-decoration-color: #00af00\">65</span> │\n",
       "└─────────────────────────────────┴────────────────────────┴───────────────┘\n",
       "</pre>\n"
      ],
      "text/plain": [
       "┏━━━━━━━━━━━━━━━━━━━━━━━━━━━━━━━━━┳━━━━━━━━━━━━━━━━━━━━━━━━┳━━━━━━━━━━━━━━━┓\n",
       "┃\u001b[1m \u001b[0m\u001b[1mLayer (type)                   \u001b[0m\u001b[1m \u001b[0m┃\u001b[1m \u001b[0m\u001b[1mOutput Shape          \u001b[0m\u001b[1m \u001b[0m┃\u001b[1m \u001b[0m\u001b[1m      Param #\u001b[0m\u001b[1m \u001b[0m┃\n",
       "┡━━━━━━━━━━━━━━━━━━━━━━━━━━━━━━━━━╇━━━━━━━━━━━━━━━━━━━━━━━━╇━━━━━━━━━━━━━━━┩\n",
       "│ dense (\u001b[38;5;33mDense\u001b[0m)                   │ (\u001b[38;5;45mNone\u001b[0m, \u001b[38;5;34m256\u001b[0m)            │         \u001b[38;5;34m2,304\u001b[0m │\n",
       "├─────────────────────────────────┼────────────────────────┼───────────────┤\n",
       "│ dense_1 (\u001b[38;5;33mDense\u001b[0m)                 │ (\u001b[38;5;45mNone\u001b[0m, \u001b[38;5;34m64\u001b[0m)             │        \u001b[38;5;34m16,448\u001b[0m │\n",
       "├─────────────────────────────────┼────────────────────────┼───────────────┤\n",
       "│ dense_2 (\u001b[38;5;33mDense\u001b[0m)                 │ (\u001b[38;5;45mNone\u001b[0m, \u001b[38;5;34m1\u001b[0m)              │            \u001b[38;5;34m65\u001b[0m │\n",
       "└─────────────────────────────────┴────────────────────────┴───────────────┘\n"
      ]
     },
     "metadata": {},
     "output_type": "display_data"
    },
    {
     "data": {
      "text/html": [
       "<pre style=\"white-space:pre;overflow-x:auto;line-height:normal;font-family:Menlo,'DejaVu Sans Mono',consolas,'Courier New',monospace\"><span style=\"font-weight: bold\"> Total params: </span><span style=\"color: #00af00; text-decoration-color: #00af00\">18,817</span> (73.50 KB)\n",
       "</pre>\n"
      ],
      "text/plain": [
       "\u001b[1m Total params: \u001b[0m\u001b[38;5;34m18,817\u001b[0m (73.50 KB)\n"
      ]
     },
     "metadata": {},
     "output_type": "display_data"
    },
    {
     "data": {
      "text/html": [
       "<pre style=\"white-space:pre;overflow-x:auto;line-height:normal;font-family:Menlo,'DejaVu Sans Mono',consolas,'Courier New',monospace\"><span style=\"font-weight: bold\"> Trainable params: </span><span style=\"color: #00af00; text-decoration-color: #00af00\">18,817</span> (73.50 KB)\n",
       "</pre>\n"
      ],
      "text/plain": [
       "\u001b[1m Trainable params: \u001b[0m\u001b[38;5;34m18,817\u001b[0m (73.50 KB)\n"
      ]
     },
     "metadata": {},
     "output_type": "display_data"
    },
    {
     "data": {
      "text/html": [
       "<pre style=\"white-space:pre;overflow-x:auto;line-height:normal;font-family:Menlo,'DejaVu Sans Mono',consolas,'Courier New',monospace\"><span style=\"font-weight: bold\"> Non-trainable params: </span><span style=\"color: #00af00; text-decoration-color: #00af00\">0</span> (0.00 B)\n",
       "</pre>\n"
      ],
      "text/plain": [
       "\u001b[1m Non-trainable params: \u001b[0m\u001b[38;5;34m0\u001b[0m (0.00 B)\n"
      ]
     },
     "metadata": {},
     "output_type": "display_data"
    }
   ],
   "source": [
    "model = tf.keras.Sequential([\n",
    "    tf.keras.layers.Dense(units=256, activation='relu', input_shape=input_shape),\n",
    "    tf.keras.layers.Dense(units=64, activation='relu'),\n",
    "    tf.keras.layers.Dense(units=1, activation='sigmoid')\n",
    "])\n",
    "model.summary()"
   ]
  },
  {
   "cell_type": "code",
   "execution_count": 10,
   "id": "f513f437",
   "metadata": {
    "execution": {
     "iopub.execute_input": "2024-08-01T16:35:41.677296Z",
     "iopub.status.busy": "2024-08-01T16:35:41.676476Z",
     "iopub.status.idle": "2024-08-01T16:35:41.695174Z",
     "shell.execute_reply": "2024-08-01T16:35:41.694178Z"
    },
    "papermill": {
     "duration": 0.02795,
     "end_time": "2024-08-01T16:35:41.697445",
     "exception": false,
     "start_time": "2024-08-01T16:35:41.669495",
     "status": "completed"
    },
    "tags": []
   },
   "outputs": [],
   "source": [
    "adam = tf.keras.optimizers.Adam(learning_rate = 0.001)\n",
    "model.compile(loss='binary_crossentropy', optimizer=adam, metrics=[\"accuracy\",\"precision\",\"recall\", keras.metrics.BinaryAccuracy()])"
   ]
  },
  {
   "cell_type": "code",
   "execution_count": 11,
   "id": "28175818",
   "metadata": {
    "execution": {
     "iopub.execute_input": "2024-08-01T16:35:41.711676Z",
     "iopub.status.busy": "2024-08-01T16:35:41.710665Z",
     "iopub.status.idle": "2024-08-01T16:35:47.491246Z",
     "shell.execute_reply": "2024-08-01T16:35:47.490265Z"
    },
    "papermill": {
     "duration": 5.789619,
     "end_time": "2024-08-01T16:35:47.493301",
     "exception": false,
     "start_time": "2024-08-01T16:35:41.703682",
     "status": "completed"
    },
    "tags": []
   },
   "outputs": [
    {
     "name": "stdout",
     "output_type": "stream",
     "text": [
      "Epoch 1/20\n",
      "\u001b[1m1/3\u001b[0m \u001b[32m━━━━━━\u001b[0m\u001b[37m━━━━━━━━━━━━━━\u001b[0m \u001b[1m5s\u001b[0m 3s/step - accuracy: 0.6797 - binary_accuracy: 0.6797 - loss: 4.0468 - precision: 0.0000e+00 - recall: 0.0000e+00"
     ]
    },
    {
     "name": "stderr",
     "output_type": "stream",
     "text": [
      "WARNING: All log messages before absl::InitializeLog() is called are written to STDERR\n",
      "I0000 00:00:1722530144.716295      68 device_compiler.h:186] Compiled cluster using XLA!  This line is logged at most once for the lifetime of the process.\n",
      "W0000 00:00:1722530144.735021      68 graph_launch.cc:671] Fallback to op-by-op mode because memset node breaks graph update\n"
     ]
    },
    {
     "name": "stdout",
     "output_type": "stream",
     "text": [
      "\u001b[1m3/3\u001b[0m \u001b[32m━━━━━━━━━━━━━━━━━━━━\u001b[0m\u001b[37m\u001b[0m \u001b[1m4s\u001b[0m 711ms/step - accuracy: 0.6623 - binary_accuracy: 0.6623 - loss: 3.3332 - precision: 0.3773 - recall: 0.1995 - val_accuracy: 0.3831 - val_binary_accuracy: 0.3831 - val_loss: 3.8928 - val_precision: 0.3525 - val_recall: 0.9074\n",
      "Epoch 2/20\n",
      "\u001b[1m3/3\u001b[0m \u001b[32m━━━━━━━━━━━━━━━━━━━━\u001b[0m\u001b[37m\u001b[0m \u001b[1m0s\u001b[0m 19ms/step - accuracy: 0.4863 - binary_accuracy: 0.4863 - loss: 2.5565 - precision: 0.3886 - recall: 0.7945 - val_accuracy: 0.6364 - val_binary_accuracy: 0.6364 - val_loss: 1.9308 - val_precision: 0.4167 - val_recall: 0.0926\n",
      "Epoch 3/20\n",
      "\u001b[1m3/3\u001b[0m \u001b[32m━━━━━━━━━━━━━━━━━━━━\u001b[0m\u001b[37m\u001b[0m \u001b[1m0s\u001b[0m 19ms/step - accuracy: 0.6345 - binary_accuracy: 0.6345 - loss: 2.0794 - precision: 0.3936 - recall: 0.0757 - val_accuracy: 0.5714 - val_binary_accuracy: 0.5714 - val_loss: 0.9680 - val_precision: 0.4333 - val_recall: 0.7222\n",
      "Epoch 4/20\n",
      "\u001b[1m3/3\u001b[0m \u001b[32m━━━━━━━━━━━━━━━━━━━━\u001b[0m\u001b[37m\u001b[0m \u001b[1m0s\u001b[0m 18ms/step - accuracy: 0.5635 - binary_accuracy: 0.5635 - loss: 1.1013 - precision: 0.4129 - recall: 0.7084 - val_accuracy: 0.5584 - val_binary_accuracy: 0.5584 - val_loss: 1.2933 - val_precision: 0.4255 - val_recall: 0.7407\n",
      "Epoch 5/20\n",
      "\u001b[1m3/3\u001b[0m \u001b[32m━━━━━━━━━━━━━━━━━━━━\u001b[0m\u001b[37m\u001b[0m \u001b[1m0s\u001b[0m 19ms/step - accuracy: 0.6283 - binary_accuracy: 0.6283 - loss: 0.9793 - precision: 0.4793 - recall: 0.5869 - val_accuracy: 0.6558 - val_binary_accuracy: 0.6558 - val_loss: 1.2097 - val_precision: 1.0000 - val_recall: 0.0185\n",
      "Epoch 6/20\n",
      "\u001b[1m3/3\u001b[0m \u001b[32m━━━━━━━━━━━━━━━━━━━━\u001b[0m\u001b[37m\u001b[0m \u001b[1m0s\u001b[0m 19ms/step - accuracy: 0.6703 - binary_accuracy: 0.6703 - loss: 1.0239 - precision: 0.7372 - recall: 0.0641 - val_accuracy: 0.5844 - val_binary_accuracy: 0.5844 - val_loss: 0.9104 - val_precision: 0.4359 - val_recall: 0.6296\n",
      "Epoch 7/20\n",
      "\u001b[1m3/3\u001b[0m \u001b[32m━━━━━━━━━━━━━━━━━━━━\u001b[0m\u001b[37m\u001b[0m \u001b[1m0s\u001b[0m 18ms/step - accuracy: 0.6024 - binary_accuracy: 0.6024 - loss: 0.9212 - precision: 0.4760 - recall: 0.7889 - val_accuracy: 0.6234 - val_binary_accuracy: 0.6234 - val_loss: 0.7131 - val_precision: 0.4667 - val_recall: 0.5185\n",
      "Epoch 8/20\n",
      "\u001b[1m3/3\u001b[0m \u001b[32m━━━━━━━━━━━━━━━━━━━━\u001b[0m\u001b[37m\u001b[0m \u001b[1m0s\u001b[0m 19ms/step - accuracy: 0.6747 - binary_accuracy: 0.6747 - loss: 0.7438 - precision: 0.5440 - recall: 0.4031 - val_accuracy: 0.6883 - val_binary_accuracy: 0.6883 - val_loss: 0.8874 - val_precision: 0.6667 - val_recall: 0.2222\n",
      "Epoch 9/20\n",
      "\u001b[1m3/3\u001b[0m \u001b[32m━━━━━━━━━━━━━━━━━━━━\u001b[0m\u001b[37m\u001b[0m \u001b[1m0s\u001b[0m 18ms/step - accuracy: 0.6757 - binary_accuracy: 0.6757 - loss: 0.7810 - precision: 0.6182 - recall: 0.3194 - val_accuracy: 0.5714 - val_binary_accuracy: 0.5714 - val_loss: 1.0327 - val_precision: 0.4444 - val_recall: 0.8889\n",
      "Epoch 10/20\n",
      "\u001b[1m3/3\u001b[0m \u001b[32m━━━━━━━━━━━━━━━━━━━━\u001b[0m\u001b[37m\u001b[0m \u001b[1m0s\u001b[0m 19ms/step - accuracy: 0.6180 - binary_accuracy: 0.6180 - loss: 0.7961 - precision: 0.4703 - recall: 0.7834 - val_accuracy: 0.6688 - val_binary_accuracy: 0.6688 - val_loss: 0.7123 - val_precision: 0.6667 - val_recall: 0.1111\n",
      "Epoch 11/20\n",
      "\u001b[1m3/3\u001b[0m \u001b[32m━━━━━━━━━━━━━━━━━━━━\u001b[0m\u001b[37m\u001b[0m \u001b[1m0s\u001b[0m 18ms/step - accuracy: 0.6970 - binary_accuracy: 0.6970 - loss: 0.7315 - precision: 0.8046 - recall: 0.1448 - val_accuracy: 0.6494 - val_binary_accuracy: 0.6494 - val_loss: 0.6926 - val_precision: 0.5000 - val_recall: 0.6481\n",
      "Epoch 12/20\n",
      "\u001b[1m3/3\u001b[0m \u001b[32m━━━━━━━━━━━━━━━━━━━━\u001b[0m\u001b[37m\u001b[0m \u001b[1m0s\u001b[0m 18ms/step - accuracy: 0.6516 - binary_accuracy: 0.6516 - loss: 0.6759 - precision: 0.5207 - recall: 0.7160 - val_accuracy: 0.6494 - val_binary_accuracy: 0.6494 - val_loss: 0.6525 - val_precision: 0.5000 - val_recall: 0.6667\n",
      "Epoch 13/20\n",
      "\u001b[1m3/3\u001b[0m \u001b[32m━━━━━━━━━━━━━━━━━━━━\u001b[0m\u001b[37m\u001b[0m \u001b[1m0s\u001b[0m 19ms/step - accuracy: 0.6988 - binary_accuracy: 0.6988 - loss: 0.6347 - precision: 0.5751 - recall: 0.4843 - val_accuracy: 0.6623 - val_binary_accuracy: 0.6623 - val_loss: 0.6699 - val_precision: 0.5556 - val_recall: 0.1852\n",
      "Epoch 14/20\n",
      "\u001b[1m3/3\u001b[0m \u001b[32m━━━━━━━━━━━━━━━━━━━━\u001b[0m\u001b[37m\u001b[0m \u001b[1m0s\u001b[0m 26ms/step - accuracy: 0.6959 - binary_accuracy: 0.6959 - loss: 0.6386 - precision: 0.5834 - recall: 0.4100 - val_accuracy: 0.6039 - val_binary_accuracy: 0.6039 - val_loss: 0.8450 - val_precision: 0.4598 - val_recall: 0.7407\n",
      "Epoch 15/20\n",
      "\u001b[1m3/3\u001b[0m \u001b[32m━━━━━━━━━━━━━━━━━━━━\u001b[0m\u001b[37m\u001b[0m \u001b[1m0s\u001b[0m 18ms/step - accuracy: 0.6685 - binary_accuracy: 0.6685 - loss: 0.6777 - precision: 0.5204 - recall: 0.6746 - val_accuracy: 0.6753 - val_binary_accuracy: 0.6753 - val_loss: 0.8135 - val_precision: 0.6429 - val_recall: 0.1667\n",
      "Epoch 16/20\n",
      "\u001b[1m3/3\u001b[0m \u001b[32m━━━━━━━━━━━━━━━━━━━━\u001b[0m\u001b[37m\u001b[0m \u001b[1m0s\u001b[0m 18ms/step - accuracy: 0.7043 - binary_accuracy: 0.7043 - loss: 0.7033 - precision: 0.7473 - recall: 0.2012 - val_accuracy: 0.6234 - val_binary_accuracy: 0.6234 - val_loss: 0.6997 - val_precision: 0.4773 - val_recall: 0.7778\n",
      "Epoch 17/20\n",
      "\u001b[1m3/3\u001b[0m \u001b[32m━━━━━━━━━━━━━━━━━━━━\u001b[0m\u001b[37m\u001b[0m \u001b[1m0s\u001b[0m 19ms/step - accuracy: 0.6185 - binary_accuracy: 0.6185 - loss: 0.6936 - precision: 0.4762 - recall: 0.7865 - val_accuracy: 0.6494 - val_binary_accuracy: 0.6494 - val_loss: 0.6385 - val_precision: 0.5000 - val_recall: 0.4630\n",
      "Epoch 18/20\n",
      "\u001b[1m3/3\u001b[0m \u001b[32m━━━━━━━━━━━━━━━━━━━━\u001b[0m\u001b[37m\u001b[0m \u001b[1m0s\u001b[0m 19ms/step - accuracy: 0.7121 - binary_accuracy: 0.7121 - loss: 0.6172 - precision: 0.6798 - recall: 0.3636 - val_accuracy: 0.7013 - val_binary_accuracy: 0.7013 - val_loss: 0.7009 - val_precision: 0.7857 - val_recall: 0.2037\n",
      "Epoch 19/20\n",
      "\u001b[1m3/3\u001b[0m \u001b[32m━━━━━━━━━━━━━━━━━━━━\u001b[0m\u001b[37m\u001b[0m \u001b[1m0s\u001b[0m 19ms/step - accuracy: 0.7169 - binary_accuracy: 0.7169 - loss: 0.5997 - precision: 0.6925 - recall: 0.3047 - val_accuracy: 0.6169 - val_binary_accuracy: 0.6169 - val_loss: 0.7844 - val_precision: 0.4731 - val_recall: 0.8148\n",
      "Epoch 20/20\n",
      "\u001b[1m3/3\u001b[0m \u001b[32m━━━━━━━━━━━━━━━━━━━━\u001b[0m\u001b[37m\u001b[0m \u001b[1m0s\u001b[0m 18ms/step - accuracy: 0.6659 - binary_accuracy: 0.6659 - loss: 0.6292 - precision: 0.5242 - recall: 0.7746 - val_accuracy: 0.6558 - val_binary_accuracy: 0.6558 - val_loss: 0.6896 - val_precision: 0.5200 - val_recall: 0.2407\n"
     ]
    },
    {
     "data": {
      "text/plain": [
       "<keras.src.callbacks.history.History at 0x7f1a90150760>"
      ]
     },
     "execution_count": 11,
     "metadata": {},
     "output_type": "execute_result"
    }
   ],
   "source": [
    "model.fit(x_train, y_train, validation_data=(x_test, y_test), batch_size=256, epochs=20)"
   ]
  }
 ],
 "metadata": {
  "kaggle": {
   "accelerator": "gpu",
   "dataSources": [
    {
     "datasetId": 2527538,
     "sourceId": 4289678,
     "sourceType": "datasetVersion"
    }
   ],
   "dockerImageVersionId": 30747,
   "isGpuEnabled": true,
   "isInternetEnabled": false,
   "language": "python",
   "sourceType": "notebook"
  },
  "kernelspec": {
   "display_name": "Python 3",
   "language": "python",
   "name": "python3"
  },
  "language_info": {
   "codemirror_mode": {
    "name": "ipython",
    "version": 3
   },
   "file_extension": ".py",
   "mimetype": "text/x-python",
   "name": "python",
   "nbconvert_exporter": "python",
   "pygments_lexer": "ipython3",
   "version": "3.10.13"
  },
  "papermill": {
   "default_parameters": {},
   "duration": 27.293826,
   "end_time": "2024-08-01T16:35:50.182001",
   "environment_variables": {},
   "exception": null,
   "input_path": "__notebook__.ipynb",
   "output_path": "__notebook__.ipynb",
   "parameters": {},
   "start_time": "2024-08-01T16:35:22.888175",
   "version": "2.5.0"
  }
 },
 "nbformat": 4,
 "nbformat_minor": 5
}
