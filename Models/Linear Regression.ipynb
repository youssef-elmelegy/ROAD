{
 "cells": [
  {
   "cell_type": "code",
   "execution_count": 2,
   "id": "b6ae351b",
   "metadata": {},
   "outputs": [],
   "source": [
    "import numpy as np\n",
    "import matplotlib.pyplot as plt"
   ]
  },
  {
   "cell_type": "markdown",
   "id": "6a0b1c2b",
   "metadata": {},
   "source": [
    "![Simpple Linear Regression](slr.png)"
   ]
  },
  {
   "cell_type": "markdown",
   "id": "7c20cc7a",
   "metadata": {},
   "source": [
    "![Slop](slop.png)"
   ]
  },
  {
   "cell_type": "markdown",
   "id": "cab5fac9",
   "metadata": {},
   "source": [
    "![Intercept](intercept.png)"
   ]
  },
  {
   "cell_type": "code",
   "execution_count": 3,
   "id": "05a3f25e",
   "metadata": {},
   "outputs": [],
   "source": [
    "x=np.array([20, 25,30, 35, 40, 45, 50, 55, 60, 65 ])\n",
    "y=np.array([0.5,1.8,4.8,5.2,6,6.5,7.8,9.4,9.8,10.9])"
   ]
  },
  {
   "cell_type": "code",
   "execution_count": 6,
   "id": "f6491b28",
   "metadata": {},
   "outputs": [],
   "source": [
    "def LinearRegression(x,y):\n",
    "    xmean,ymean = np.mean(x),np.mean(y)\n",
    "    covar , var = 0 , 0\n",
    "    for i in range(len(x)):\n",
    "        covar += (x[i] - xmean)*(y[i] - ymean)\n",
    "        var += (x[i]-  xmean)**2\n",
    "        \n",
    "    slop = covar/var\n",
    "    bias = ymean - slop*xmean\n",
    "    \n",
    "    return slop,bias\n",
    "        "
   ]
  },
  {
   "cell_type": "code",
   "execution_count": 5,
   "id": "b461ed5a",
   "metadata": {},
   "outputs": [],
   "source": [
    "def mse(y_true, y_pred):\n",
    "    squared_diff = (y_true - y_pred) ** 2\n",
    "    mse = squared_diff.mean()\n",
    "    return mse"
   ]
  },
  {
   "cell_type": "code",
   "execution_count": 7,
   "id": "83d94f22",
   "metadata": {},
   "outputs": [],
   "source": [
    "slop,bias = LinearRegression(x,y)"
   ]
  },
  {
   "cell_type": "code",
   "execution_count": 8,
   "id": "347af038",
   "metadata": {},
   "outputs": [
    {
     "name": "stdout",
     "output_type": "stream",
     "text": [
      "Y = 0.2192727272727273 x + -3.0490909090909106\n"
     ]
    }
   ],
   "source": [
    "print(f\"Y = {slop} x + {bias}\")"
   ]
  },
  {
   "cell_type": "code",
   "execution_count": 9,
   "id": "d025ff4d",
   "metadata": {},
   "outputs": [
    {
     "data": {
      "text/plain": [
       "17.875720661157033"
      ]
     },
     "execution_count": 9,
     "metadata": {},
     "output_type": "execute_result"
    }
   ],
   "source": [
    "x_new = np.linspace(0,100,num= 10)\n",
    "y_new = x_new*slop + bias\n",
    "e = mse(y,y_new)\n",
    "e"
   ]
  },
  {
   "cell_type": "code",
   "execution_count": 21,
   "id": "7649784b",
   "metadata": {},
   "outputs": [
    {
     "data": {
      "image/png": "[encoded data removed]",
      "text/plain": [
       "<Figure size 640x480 with 1 Axes>"
      ]
     },
     "metadata": {},
     "output_type": "display_data"
    }
   ],
   "source": [
    "plt.plot(x,y,\".b\")\n",
    "plt.plot(x_new,y_new,\"-y\")\n",
    "plt.grid()"
   ]
  }
 ],
 "metadata": {
  "kernelspec": {
   "display_name": "Python 3 (ipykernel)",
   "language": "python",
   "name": "python3"
  },
  "language_info": {
   "codemirror_mode": {
    "name": "ipython",
    "version": 3
   },
   "file_extension": ".py",
   "mimetype": "text/x-python",
   "name": "python",
   "nbconvert_exporter": "python",
   "pygments_lexer": "ipython3",
   "version": "3.11.7"
  }
 },
 "nbformat": 4,
 "nbformat_minor": 5
}
