{
 "cells": [
  {
   "cell_type": "code",
   "execution_count": 1,
   "id": "09fa1b5c",
   "metadata": {
    "_cell_guid": "b1076dfc-b9ad-4769-8c92-a6c4dae69d19",
    "_uuid": "8f2839f25d086af736a60e9eeb907d3b93b6e0e5",
    "execution": {
     "iopub.execute_input": "2024-09-05T10:07:17.028215Z",
     "iopub.status.busy": "2024-09-05T10:07:17.027910Z",
     "iopub.status.idle": "2024-09-05T10:07:30.297665Z",
     "shell.execute_reply": "2024-09-05T10:07:30.296692Z"
    },
    "papermill": {
     "duration": 13.278109,
     "end_time": "2024-09-05T10:07:30.300068",
     "exception": false,
     "start_time": "2024-09-05T10:07:17.021959",
     "status": "completed"
    },
    "tags": []
   },
   "outputs": [],
   "source": [
    "import numpy as np\n",
    "import pandas as pd\n",
    "import matplotlib.pyplot as plt\n",
    "\n",
    "import cv2\n",
    "\n",
    "import os\n",
    "\n",
    "import tensorflow as tf\n",
    "import string\n",
    "from tensorflow.keras.preprocessing.sequence import pad_sequences\n",
    "from tensorflow.keras import layers, models\n",
    "\n",
    "from tensorflow.keras.layers import LSTM, Dense, Dropout\n",
    "from tensorflow.keras.optimizers import Adam\n",
    "\n",
    "# from tensorflow import keras\n",
    "from tensorflow.keras import callbacks\n",
    "# from tensorflow.keras import layers"
   ]
  },
  {
   "cell_type": "code",
   "execution_count": 2,
   "id": "4750f80a",
   "metadata": {
    "execution": {
     "iopub.execute_input": "2024-09-05T10:07:30.310568Z",
     "iopub.status.busy": "2024-09-05T10:07:30.310042Z",
     "iopub.status.idle": "2024-09-05T10:07:30.777054Z",
     "shell.execute_reply": "2024-09-05T10:07:30.776212Z"
    },
    "papermill": {
     "duration": 0.47459,
     "end_time": "2024-09-05T10:07:30.779459",
     "exception": false,
     "start_time": "2024-09-05T10:07:30.304869",
     "status": "completed"
    },
    "tags": []
   },
   "outputs": [],
   "source": [
    "\n",
    "train_image_dir = '/kaggle/input/handwriting-recognitionocr/train_v2/train'\n",
    "valid_image_dir = '/kaggle/input/handwriting-recognitionocr/validation_v2/validation'\n",
    "test_image_dir = '/kaggle/input/handwriting-recognitionocr/test_v2/test'\n",
    "\n",
    "\n",
    "# Train CSV\n",
    "train_csv = pd.read_csv('/kaggle/input/handwriting-recognitionocr/CSV/written_name_train.csv')[:1000]\n",
    "\n",
    "# Validation CSV\n",
    "valid_csv = pd.read_csv('/kaggle/input/handwriting-recognitionocr/CSV/written_name_validation.csv')[:1000]\n",
    "\n",
    "# Test CSV\n",
    "test_csv = pd.read_csv('/kaggle/input/handwriting-recognitionocr/CSV/written_name_test.csv')[:1000]"
   ]
  },
  {
   "cell_type": "code",
   "execution_count": 3,
   "id": "3a74319a",
   "metadata": {
    "execution": {
     "iopub.execute_input": "2024-09-05T10:07:30.790305Z",
     "iopub.status.busy": "2024-09-05T10:07:30.789981Z",
     "iopub.status.idle": "2024-09-05T10:07:30.809036Z",
     "shell.execute_reply": "2024-09-05T10:07:30.808179Z"
    },
    "papermill": {
     "duration": 0.026552,
     "end_time": "2024-09-05T10:07:30.810956",
     "exception": false,
     "start_time": "2024-09-05T10:07:30.784404",
     "status": "completed"
    },
    "tags": []
   },
   "outputs": [
    {
     "name": "stdout",
     "output_type": "stream",
     "text": [
      "(1000, 2)\n"
     ]
    },
    {
     "data": {
      "text/html": [
       "<div>\n",
       "<style scoped>\n",
       "    .dataframe tbody tr th:only-of-type {\n",
       "        vertical-align: middle;\n",
       "    }\n",
       "\n",
       "    .dataframe tbody tr th {\n",
       "        vertical-align: top;\n",
       "    }\n",
       "\n",
       "    .dataframe thead th {\n",
       "        text-align: right;\n",
       "    }\n",
       "</style>\n",
       "<table border=\"1\" class=\"dataframe\">\n",
       "  <thead>\n",
       "    <tr style=\"text-align: right;\">\n",
       "      <th></th>\n",
       "      <th>FILENAME</th>\n",
       "      <th>IDENTITY</th>\n",
       "    </tr>\n",
       "  </thead>\n",
       "  <tbody>\n",
       "    <tr>\n",
       "      <th>0</th>\n",
       "      <td>TRAIN_00001.jpg</td>\n",
       "      <td>BALTHAZAR</td>\n",
       "    </tr>\n",
       "    <tr>\n",
       "      <th>1</th>\n",
       "      <td>TRAIN_00002.jpg</td>\n",
       "      <td>SIMON</td>\n",
       "    </tr>\n",
       "    <tr>\n",
       "      <th>2</th>\n",
       "      <td>TRAIN_00003.jpg</td>\n",
       "      <td>BENES</td>\n",
       "    </tr>\n",
       "    <tr>\n",
       "      <th>3</th>\n",
       "      <td>TRAIN_00004.jpg</td>\n",
       "      <td>LA LOVE</td>\n",
       "    </tr>\n",
       "    <tr>\n",
       "      <th>4</th>\n",
       "      <td>TRAIN_00005.jpg</td>\n",
       "      <td>DAPHNE</td>\n",
       "    </tr>\n",
       "  </tbody>\n",
       "</table>\n",
       "</div>"
      ],
      "text/plain": [
       "          FILENAME   IDENTITY\n",
       "0  TRAIN_00001.jpg  BALTHAZAR\n",
       "1  TRAIN_00002.jpg      SIMON\n",
       "2  TRAIN_00003.jpg      BENES\n",
       "3  TRAIN_00004.jpg    LA LOVE\n",
       "4  TRAIN_00005.jpg     DAPHNE"
      ]
     },
     "execution_count": 3,
     "metadata": {},
     "output_type": "execute_result"
    }
   ],
   "source": [
    "print(train_csv.shape)\n",
    "train_csv.head()"
   ]
  },
  {
   "cell_type": "code",
   "execution_count": 4,
   "id": "64bef88c",
   "metadata": {
    "execution": {
     "iopub.execute_input": "2024-09-05T10:07:30.822318Z",
     "iopub.status.busy": "2024-09-05T10:07:30.821828Z",
     "iopub.status.idle": "2024-09-05T10:07:30.839055Z",
     "shell.execute_reply": "2024-09-05T10:07:30.837837Z"
    },
    "papermill": {
     "duration": 0.025518,
     "end_time": "2024-09-05T10:07:30.841173",
     "exception": false,
     "start_time": "2024-09-05T10:07:30.815655",
     "status": "completed"
    },
    "tags": []
   },
   "outputs": [
    {
     "data": {
      "text/html": [
       "<div>\n",
       "<style scoped>\n",
       "    .dataframe tbody tr th:only-of-type {\n",
       "        vertical-align: middle;\n",
       "    }\n",
       "\n",
       "    .dataframe tbody tr th {\n",
       "        vertical-align: top;\n",
       "    }\n",
       "\n",
       "    .dataframe thead th {\n",
       "        text-align: right;\n",
       "    }\n",
       "</style>\n",
       "<table border=\"1\" class=\"dataframe\">\n",
       "  <thead>\n",
       "    <tr style=\"text-align: right;\">\n",
       "      <th></th>\n",
       "      <th>FILENAME</th>\n",
       "      <th>IDENTITY</th>\n",
       "    </tr>\n",
       "  </thead>\n",
       "  <tbody>\n",
       "    <tr>\n",
       "      <th>0</th>\n",
       "      <td>/kaggle/input/handwriting-recognitionocr/train...</td>\n",
       "      <td>BALTHAZAR</td>\n",
       "    </tr>\n",
       "    <tr>\n",
       "      <th>1</th>\n",
       "      <td>/kaggle/input/handwriting-recognitionocr/train...</td>\n",
       "      <td>SIMON</td>\n",
       "    </tr>\n",
       "    <tr>\n",
       "      <th>2</th>\n",
       "      <td>/kaggle/input/handwriting-recognitionocr/train...</td>\n",
       "      <td>BENES</td>\n",
       "    </tr>\n",
       "    <tr>\n",
       "      <th>3</th>\n",
       "      <td>/kaggle/input/handwriting-recognitionocr/train...</td>\n",
       "      <td>LA LOVE</td>\n",
       "    </tr>\n",
       "    <tr>\n",
       "      <th>4</th>\n",
       "      <td>/kaggle/input/handwriting-recognitionocr/train...</td>\n",
       "      <td>DAPHNE</td>\n",
       "    </tr>\n",
       "  </tbody>\n",
       "</table>\n",
       "</div>"
      ],
      "text/plain": [
       "                                            FILENAME   IDENTITY\n",
       "0  /kaggle/input/handwriting-recognitionocr/train...  BALTHAZAR\n",
       "1  /kaggle/input/handwriting-recognitionocr/train...      SIMON\n",
       "2  /kaggle/input/handwriting-recognitionocr/train...      BENES\n",
       "3  /kaggle/input/handwriting-recognitionocr/train...    LA LOVE\n",
       "4  /kaggle/input/handwriting-recognitionocr/train...     DAPHNE"
      ]
     },
     "execution_count": 4,
     "metadata": {},
     "output_type": "execute_result"
    }
   ],
   "source": [
    "train_csv['FILENAME'] = [train_image_dir + f\"/{filename}\" for filename in train_csv['FILENAME']]\n",
    "valid_csv['FILENAME'] = [valid_image_dir + f\"/{filename}\" for filename in valid_csv['FILENAME']]\n",
    "test_csv['FILENAME']  = [test_image_dir + f\"/{filename}\" for filename in test_csv['FILENAME']]\n",
    "train_csv.head()"
   ]
  },
  {
   "cell_type": "code",
   "execution_count": 5,
   "id": "76a56359",
   "metadata": {
    "execution": {
     "iopub.execute_input": "2024-09-05T10:07:30.852987Z",
     "iopub.status.busy": "2024-09-05T10:07:30.852451Z",
     "iopub.status.idle": "2024-09-05T10:07:30.857641Z",
     "shell.execute_reply": "2024-09-05T10:07:30.856767Z"
    },
    "papermill": {
     "duration": 0.013137,
     "end_time": "2024-09-05T10:07:30.859581",
     "exception": false,
     "start_time": "2024-09-05T10:07:30.846444",
     "status": "completed"
    },
    "tags": []
   },
   "outputs": [],
   "source": [
    "def preprocess_image(image_path, target_size=(128, 32)):\n",
    "    img = cv2.imread(image_path, cv2.IMREAD_GRAYSCALE)\n",
    "    \n",
    "    img = cv2.resize(img, target_size, interpolation=cv2.INTER_AREA)\n",
    "    \n",
    "    return img\n",
    "\n",
    "def normalize_image(img):\n",
    "    img = img / 255.0\n",
    "    return img\n"
   ]
  },
  {
   "cell_type": "code",
   "execution_count": 6,
   "id": "f913e0d1",
   "metadata": {
    "execution": {
     "iopub.execute_input": "2024-09-05T10:07:30.870473Z",
     "iopub.status.busy": "2024-09-05T10:07:30.869918Z",
     "iopub.status.idle": "2024-09-05T10:07:30.875851Z",
     "shell.execute_reply": "2024-09-05T10:07:30.874963Z"
    },
    "papermill": {
     "duration": 0.013309,
     "end_time": "2024-09-05T10:07:30.877677",
     "exception": false,
     "start_time": "2024-09-05T10:07:30.864368",
     "status": "completed"
    },
    "tags": []
   },
   "outputs": [],
   "source": [
    "def load_and_preprocess_images(csv_file, image_dir, target_size=(128, 32)):\n",
    "    data = csv_file\n",
    "    \n",
    "    images = []\n",
    "    labels = []\n",
    "    \n",
    "    for index, row in data.iterrows():\n",
    "        image_path = row['FILENAME']\n",
    "        label = row['IDENTITY']\n",
    "        \n",
    "        img = preprocess_image(image_path, target_size)\n",
    "        img = normalize_image(img)\n",
    "        \n",
    "        images.append(img)\n",
    "        labels.append(label)\n",
    "    \n",
    "    images = np.array(images)\n",
    "    labels = np.array(labels)\n",
    "    \n",
    "    return images, labels"
   ]
  },
  {
   "cell_type": "code",
   "execution_count": 7,
   "id": "33003b91",
   "metadata": {
    "execution": {
     "iopub.execute_input": "2024-09-05T10:07:30.888223Z",
     "iopub.status.busy": "2024-09-05T10:07:30.887945Z",
     "iopub.status.idle": "2024-09-05T10:08:00.606527Z",
     "shell.execute_reply": "2024-09-05T10:08:00.605402Z"
    },
    "papermill": {
     "duration": 29.72629,
     "end_time": "2024-09-05T10:08:00.608693",
     "exception": false,
     "start_time": "2024-09-05T10:07:30.882403",
     "status": "completed"
    },
    "tags": []
   },
   "outputs": [
    {
     "name": "stdout",
     "output_type": "stream",
     "text": [
      "['BALTHAZAR' 'SIMON' 'BENES' 'LA LOVE' 'DAPHNE' 'LUCIE' 'NASSIM'\n",
      " 'ASSRAOUI' 'LAVIAN' 'MAEVA']\n",
      "['BILEL' 'LAUMIONIER' 'LEA' 'JEAN-ROCH' 'RUPP' 'UNREADABLE' 'PICHON'\n",
      " 'DANIEL' 'JEREMY' 'JEAN-MICHEL']\n",
      "['KEVIN' 'CLOTAIRE' 'LENA' 'JULES' 'CHERPIN' 'MARTIN' 'VALENTINE' 'LORAS'\n",
      " 'THIBAULT' 'AZABI']\n"
     ]
    }
   ],
   "source": [
    "train_images, train_labels = load_and_preprocess_images(train_csv, train_image_dir)\n",
    "print(train_labels[:10])\n",
    "valid_images, valid_labels = load_and_preprocess_images(valid_csv, valid_image_dir)\n",
    "print(valid_labels[:10])\n",
    "test_images, test_labels = load_and_preprocess_images(test_csv, test_image_dir)\n",
    "print(test_labels[:10])"
   ]
  },
  {
   "cell_type": "code",
   "execution_count": 8,
   "id": "54ee7789",
   "metadata": {
    "execution": {
     "iopub.execute_input": "2024-09-05T10:08:00.620406Z",
     "iopub.status.busy": "2024-09-05T10:08:00.620086Z",
     "iopub.status.idle": "2024-09-05T10:08:00.649842Z",
     "shell.execute_reply": "2024-09-05T10:08:00.649137Z"
    },
    "papermill": {
     "duration": 0.037771,
     "end_time": "2024-09-05T10:08:00.651844",
     "exception": false,
     "start_time": "2024-09-05T10:08:00.614073",
     "status": "completed"
    },
    "tags": []
   },
   "outputs": [],
   "source": [
    "char_set = string.ascii_letters + \" '\"\n",
    "char_to_num = {char: idx for idx, char in enumerate(char_set, 1)}\n",
    "num_to_char = {idx: char for char, idx in char_to_num.items()}\n",
    "\n",
    "def encode_label(name, char_to_num):\n",
    "    return [char_to_num[char] for char in name if char in char_to_num]\n",
    "\n",
    "def encode_and_pad_labels(labels, char_to_num, max_length):\n",
    "    encoded_labels = [encode_label(label, char_to_num) for label in labels]\n",
    "    padded_labels = pad_sequences(encoded_labels, maxlen=max_length, padding='post')\n",
    "    return padded_labels\n",
    "\n",
    "# Set the maximum name length for the train data\n",
    "max_name_length = max(len(name) for name in train_labels)\n",
    "train_padded_labels = encode_and_pad_labels(train_labels, char_to_num, max_name_length)\n",
    "\n",
    "# Set the maximum name length for validation \n",
    "max_name_length = max(len(name) for name in valid_labels)\n",
    "valid_padded_labels = encode_and_pad_labels(valid_labels, char_to_num, max_name_length)\n",
    "\n",
    "# text data\n",
    "max_name_length = max(len(name) for name in test_labels)\n",
    "test_padded_labels = encode_and_pad_labels(test_labels, char_to_num, max_name_length)\n"
   ]
  },
  {
   "cell_type": "code",
   "execution_count": 9,
   "id": "6a551991",
   "metadata": {
    "execution": {
     "iopub.execute_input": "2024-09-05T10:08:00.663178Z",
     "iopub.status.busy": "2024-09-05T10:08:00.662861Z",
     "iopub.status.idle": "2024-09-05T10:08:01.639249Z",
     "shell.execute_reply": "2024-09-05T10:08:01.637960Z"
    },
    "papermill": {
     "duration": 0.984666,
     "end_time": "2024-09-05T10:08:01.641504",
     "exception": false,
     "start_time": "2024-09-05T10:08:00.656838",
     "status": "completed"
    },
    "tags": []
   },
   "outputs": [
    {
     "name": "stdout",
     "output_type": "stream",
     "text": [
      "\n"
     ]
    }
   ],
   "source": [
    "def create_tf_dataset(images, labels, batch_size=32, shuffle=True):\n",
    "    dataset = tf.data.Dataset.from_tensor_slices((images, labels))\n",
    "    \n",
    "    if shuffle:\n",
    "        dataset = dataset.shuffle(buffer_size=len(images))\n",
    "    \n",
    "    dataset = dataset.batch(batch_size)\n",
    "    return dataset\n",
    "\n",
    "# Create TensorFlow datasets\n",
    "train_dataset = create_tf_dataset(train_images, train_padded_labels, batch_size=32)\n",
    "valid_dataset = create_tf_dataset(valid_images, valid_padded_labels, batch_size=32, shuffle=False)\n",
    "test_dataset = create_tf_dataset(test_images, test_padded_labels, batch_size=32, shuffle=False)\n",
    "print(\"\")"
   ]
  },
  {
   "cell_type": "code",
   "execution_count": 10,
   "id": "b0a0a964",
   "metadata": {
    "execution": {
     "iopub.execute_input": "2024-09-05T10:08:01.654566Z",
     "iopub.status.busy": "2024-09-05T10:08:01.653744Z",
     "iopub.status.idle": "2024-09-05T10:08:01.665797Z",
     "shell.execute_reply": "2024-09-05T10:08:01.664965Z"
    },
    "papermill": {
     "duration": 0.021581,
     "end_time": "2024-09-05T10:08:01.668709",
     "exception": false,
     "start_time": "2024-09-05T10:08:01.647128",
     "status": "completed"
    },
    "tags": []
   },
   "outputs": [],
   "source": [
    "def ctc_lambda_func(args):\n",
    "    y_pred, labels, input_length, label_length = args\n",
    "    return tf.keras.backend.ctc_batch_cost(labels, y_pred, input_length, label_length)\n",
    "\n",
    "def build_ocr_model(input_shape, num_classes):\n",
    "    # Input layer for the images\n",
    "    input_img = layers.Input(shape=input_shape, name='image_input')\n",
    "\n",
    "    # CNN layers for feature extraction\n",
    "    x = layers.Conv2D(32, (3, 3), padding='same', activation='relu')(input_img)\n",
    "    x = layers.MaxPooling2D(pool_size=(2, 2))(x)\n",
    "    x = layers.Conv2D(64, (3, 3), padding='same', activation='relu')(x)\n",
    "    x = layers.MaxPooling2D(pool_size=(2, 2))(x)\n",
    "    x = layers.Conv2D(128, (3, 3), padding='same', activation='relu')(x)\n",
    "    x = layers.MaxPooling2D(pool_size=(2, 2))(x)\n",
    "\n",
    "    # Reshape the features for the RNN input\n",
    "    x = layers.Reshape(target_shape=(-1, x.shape[-1]))(x)\n",
    "\n",
    "    # RNN layers (LSTM/GRU) for sequence modeling\n",
    "    x = layers.Bidirectional(layers.LSTM(128, return_sequences=True))(x)\n",
    "    x = layers.Bidirectional(layers.LSTM(128, return_sequences=True))(x)\n",
    "\n",
    "    # Dense layer to predict characters\n",
    "    y_pred = layers.Dense(num_classes, activation='softmax', name='softmax_output')(x)\n",
    "\n",
    "    # CTC Input Layers\n",
    "    labels = layers.Input(name='label_input', shape=[None], dtype='float32')  # ground truth labels\n",
    "    input_length = layers.Input(name='input_length', shape=[1], dtype='int64')  # lengths of input sequences\n",
    "    label_length = layers.Input(name='label_length', shape=[1], dtype='int64')  # lengths of the actual labels\n",
    "\n",
    "    # Define the CTC layer (no trainable parameters here)\n",
    "    ctc_loss_output = layers.Lambda(ctc_lambda_func, output_shape=(1,), name='ctc')(\n",
    "        [y_pred, labels, input_length, label_length]\n",
    "    )\n",
    "\n",
    "    # Model to train using CTC loss\n",
    "    model = tf.keras.models.Model(inputs=[input_img, labels, input_length, label_length], outputs=ctc_loss_output)\n",
    "\n",
    "    return model"
   ]
  },
  {
   "cell_type": "code",
   "execution_count": 11,
   "id": "a607407d",
   "metadata": {
    "execution": {
     "iopub.execute_input": "2024-09-05T10:08:01.687413Z",
     "iopub.status.busy": "2024-09-05T10:08:01.686613Z",
     "iopub.status.idle": "2024-09-05T10:08:01.692217Z",
     "shell.execute_reply": "2024-09-05T10:08:01.690701Z"
    },
    "papermill": {
     "duration": 0.018369,
     "end_time": "2024-09-05T10:08:01.695501",
     "exception": false,
     "start_time": "2024-09-05T10:08:01.677132",
     "status": "completed"
    },
    "tags": []
   },
   "outputs": [],
   "source": [
    "# def ctc_lambda_func(args):\n",
    "#     y_pred, labels, input_length, label_length = args\n",
    "#     return tf.keras.backend.ctc_batch_cost(labels, y_pred, input_length, label_length)"
   ]
  },
  {
   "cell_type": "code",
   "execution_count": 12,
   "id": "399fa95a",
   "metadata": {
    "execution": {
     "iopub.execute_input": "2024-09-05T10:08:01.709880Z",
     "iopub.status.busy": "2024-09-05T10:08:01.709576Z",
     "iopub.status.idle": "2024-09-05T10:08:02.421753Z",
     "shell.execute_reply": "2024-09-05T10:08:02.420860Z"
    },
    "papermill": {
     "duration": 0.720052,
     "end_time": "2024-09-05T10:08:02.423759",
     "exception": false,
     "start_time": "2024-09-05T10:08:01.703707",
     "status": "completed"
    },
    "tags": []
   },
   "outputs": [
    {
     "data": {
      "text/html": [
       "<pre style=\"white-space:pre;overflow-x:auto;line-height:normal;font-family:Menlo,'DejaVu Sans Mono',consolas,'Courier New',monospace\"><span style=\"font-weight: bold\">Model: \"functional_1\"</span>\n",
       "</pre>\n"
      ],
      "text/plain": [
       "\u001b[1mModel: \"functional_1\"\u001b[0m\n"
      ]
     },
     "metadata": {},
     "output_type": "display_data"
    },
    {
     "data": {
      "text/html": [
       "<pre style=\"white-space:pre;overflow-x:auto;line-height:normal;font-family:Menlo,'DejaVu Sans Mono',consolas,'Courier New',monospace\">┏━━━━━━━━━━━━━━━━━━━━━┳━━━━━━━━━━━━━━━━━━━┳━━━━━━━━━━━━┳━━━━━━━━━━━━━━━━━━━┓\n",
       "┃<span style=\"font-weight: bold\"> Layer (type)        </span>┃<span style=\"font-weight: bold\"> Output Shape      </span>┃<span style=\"font-weight: bold\">    Param # </span>┃<span style=\"font-weight: bold\"> Connected to      </span>┃\n",
       "┡━━━━━━━━━━━━━━━━━━━━━╇━━━━━━━━━━━━━━━━━━━╇━━━━━━━━━━━━╇━━━━━━━━━━━━━━━━━━━┩\n",
       "│ image_input         │ (<span style=\"color: #00d7ff; text-decoration-color: #00d7ff\">None</span>, <span style=\"color: #00af00; text-decoration-color: #00af00\">32</span>, <span style=\"color: #00af00; text-decoration-color: #00af00\">128</span>,   │          <span style=\"color: #00af00; text-decoration-color: #00af00\">0</span> │ -                 │\n",
       "│ (<span style=\"color: #0087ff; text-decoration-color: #0087ff\">InputLayer</span>)        │ <span style=\"color: #00af00; text-decoration-color: #00af00\">1</span>)                │            │                   │\n",
       "├─────────────────────┼───────────────────┼────────────┼───────────────────┤\n",
       "│ conv2d (<span style=\"color: #0087ff; text-decoration-color: #0087ff\">Conv2D</span>)     │ (<span style=\"color: #00d7ff; text-decoration-color: #00d7ff\">None</span>, <span style=\"color: #00af00; text-decoration-color: #00af00\">32</span>, <span style=\"color: #00af00; text-decoration-color: #00af00\">128</span>,   │        <span style=\"color: #00af00; text-decoration-color: #00af00\">320</span> │ image_input[<span style=\"color: #00af00; text-decoration-color: #00af00\">0</span>][<span style=\"color: #00af00; text-decoration-color: #00af00\">0</span>] │\n",
       "│                     │ <span style=\"color: #00af00; text-decoration-color: #00af00\">32</span>)               │            │                   │\n",
       "├─────────────────────┼───────────────────┼────────────┼───────────────────┤\n",
       "│ max_pooling2d       │ (<span style=\"color: #00d7ff; text-decoration-color: #00d7ff\">None</span>, <span style=\"color: #00af00; text-decoration-color: #00af00\">16</span>, <span style=\"color: #00af00; text-decoration-color: #00af00\">64</span>,    │          <span style=\"color: #00af00; text-decoration-color: #00af00\">0</span> │ conv2d[<span style=\"color: #00af00; text-decoration-color: #00af00\">0</span>][<span style=\"color: #00af00; text-decoration-color: #00af00\">0</span>]      │\n",
       "│ (<span style=\"color: #0087ff; text-decoration-color: #0087ff\">MaxPooling2D</span>)      │ <span style=\"color: #00af00; text-decoration-color: #00af00\">32</span>)               │            │                   │\n",
       "├─────────────────────┼───────────────────┼────────────┼───────────────────┤\n",
       "│ conv2d_1 (<span style=\"color: #0087ff; text-decoration-color: #0087ff\">Conv2D</span>)   │ (<span style=\"color: #00d7ff; text-decoration-color: #00d7ff\">None</span>, <span style=\"color: #00af00; text-decoration-color: #00af00\">16</span>, <span style=\"color: #00af00; text-decoration-color: #00af00\">64</span>,    │     <span style=\"color: #00af00; text-decoration-color: #00af00\">18,496</span> │ max_pooling2d[<span style=\"color: #00af00; text-decoration-color: #00af00\">0</span>]… │\n",
       "│                     │ <span style=\"color: #00af00; text-decoration-color: #00af00\">64</span>)               │            │                   │\n",
       "├─────────────────────┼───────────────────┼────────────┼───────────────────┤\n",
       "│ max_pooling2d_1     │ (<span style=\"color: #00d7ff; text-decoration-color: #00d7ff\">None</span>, <span style=\"color: #00af00; text-decoration-color: #00af00\">8</span>, <span style=\"color: #00af00; text-decoration-color: #00af00\">32</span>, <span style=\"color: #00af00; text-decoration-color: #00af00\">64</span>) │          <span style=\"color: #00af00; text-decoration-color: #00af00\">0</span> │ conv2d_1[<span style=\"color: #00af00; text-decoration-color: #00af00\">0</span>][<span style=\"color: #00af00; text-decoration-color: #00af00\">0</span>]    │\n",
       "│ (<span style=\"color: #0087ff; text-decoration-color: #0087ff\">MaxPooling2D</span>)      │                   │            │                   │\n",
       "├─────────────────────┼───────────────────┼────────────┼───────────────────┤\n",
       "│ conv2d_2 (<span style=\"color: #0087ff; text-decoration-color: #0087ff\">Conv2D</span>)   │ (<span style=\"color: #00d7ff; text-decoration-color: #00d7ff\">None</span>, <span style=\"color: #00af00; text-decoration-color: #00af00\">8</span>, <span style=\"color: #00af00; text-decoration-color: #00af00\">32</span>,     │     <span style=\"color: #00af00; text-decoration-color: #00af00\">73,856</span> │ max_pooling2d_1[<span style=\"color: #00af00; text-decoration-color: #00af00\">…</span> │\n",
       "│                     │ <span style=\"color: #00af00; text-decoration-color: #00af00\">128</span>)              │            │                   │\n",
       "├─────────────────────┼───────────────────┼────────────┼───────────────────┤\n",
       "│ max_pooling2d_2     │ (<span style=\"color: #00d7ff; text-decoration-color: #00d7ff\">None</span>, <span style=\"color: #00af00; text-decoration-color: #00af00\">4</span>, <span style=\"color: #00af00; text-decoration-color: #00af00\">16</span>,     │          <span style=\"color: #00af00; text-decoration-color: #00af00\">0</span> │ conv2d_2[<span style=\"color: #00af00; text-decoration-color: #00af00\">0</span>][<span style=\"color: #00af00; text-decoration-color: #00af00\">0</span>]    │\n",
       "│ (<span style=\"color: #0087ff; text-decoration-color: #0087ff\">MaxPooling2D</span>)      │ <span style=\"color: #00af00; text-decoration-color: #00af00\">128</span>)              │            │                   │\n",
       "├─────────────────────┼───────────────────┼────────────┼───────────────────┤\n",
       "│ reshape (<span style=\"color: #0087ff; text-decoration-color: #0087ff\">Reshape</span>)   │ (<span style=\"color: #00d7ff; text-decoration-color: #00d7ff\">None</span>, <span style=\"color: #00af00; text-decoration-color: #00af00\">64</span>, <span style=\"color: #00af00; text-decoration-color: #00af00\">128</span>)   │          <span style=\"color: #00af00; text-decoration-color: #00af00\">0</span> │ max_pooling2d_2[<span style=\"color: #00af00; text-decoration-color: #00af00\">…</span> │\n",
       "├─────────────────────┼───────────────────┼────────────┼───────────────────┤\n",
       "│ bidirectional       │ (<span style=\"color: #00d7ff; text-decoration-color: #00d7ff\">None</span>, <span style=\"color: #00af00; text-decoration-color: #00af00\">64</span>, <span style=\"color: #00af00; text-decoration-color: #00af00\">256</span>)   │    <span style=\"color: #00af00; text-decoration-color: #00af00\">263,168</span> │ reshape[<span style=\"color: #00af00; text-decoration-color: #00af00\">0</span>][<span style=\"color: #00af00; text-decoration-color: #00af00\">0</span>]     │\n",
       "│ (<span style=\"color: #0087ff; text-decoration-color: #0087ff\">Bidirectional</span>)     │                   │            │                   │\n",
       "├─────────────────────┼───────────────────┼────────────┼───────────────────┤\n",
       "│ bidirectional_1     │ (<span style=\"color: #00d7ff; text-decoration-color: #00d7ff\">None</span>, <span style=\"color: #00af00; text-decoration-color: #00af00\">64</span>, <span style=\"color: #00af00; text-decoration-color: #00af00\">256</span>)   │    <span style=\"color: #00af00; text-decoration-color: #00af00\">394,240</span> │ bidirectional[<span style=\"color: #00af00; text-decoration-color: #00af00\">0</span>]… │\n",
       "│ (<span style=\"color: #0087ff; text-decoration-color: #0087ff\">Bidirectional</span>)     │                   │            │                   │\n",
       "├─────────────────────┼───────────────────┼────────────┼───────────────────┤\n",
       "│ softmax_output      │ (<span style=\"color: #00d7ff; text-decoration-color: #00d7ff\">None</span>, <span style=\"color: #00af00; text-decoration-color: #00af00\">64</span>, <span style=\"color: #00af00; text-decoration-color: #00af00\">55</span>)    │     <span style=\"color: #00af00; text-decoration-color: #00af00\">14,135</span> │ bidirectional_1[<span style=\"color: #00af00; text-decoration-color: #00af00\">…</span> │\n",
       "│ (<span style=\"color: #0087ff; text-decoration-color: #0087ff\">Dense</span>)             │                   │            │                   │\n",
       "├─────────────────────┼───────────────────┼────────────┼───────────────────┤\n",
       "│ label_input         │ (<span style=\"color: #00d7ff; text-decoration-color: #00d7ff\">None</span>, <span style=\"color: #00d7ff; text-decoration-color: #00d7ff\">None</span>)      │          <span style=\"color: #00af00; text-decoration-color: #00af00\">0</span> │ -                 │\n",
       "│ (<span style=\"color: #0087ff; text-decoration-color: #0087ff\">InputLayer</span>)        │                   │            │                   │\n",
       "├─────────────────────┼───────────────────┼────────────┼───────────────────┤\n",
       "│ input_length        │ (<span style=\"color: #00d7ff; text-decoration-color: #00d7ff\">None</span>, <span style=\"color: #00af00; text-decoration-color: #00af00\">1</span>)         │          <span style=\"color: #00af00; text-decoration-color: #00af00\">0</span> │ -                 │\n",
       "│ (<span style=\"color: #0087ff; text-decoration-color: #0087ff\">InputLayer</span>)        │                   │            │                   │\n",
       "├─────────────────────┼───────────────────┼────────────┼───────────────────┤\n",
       "│ label_length        │ (<span style=\"color: #00d7ff; text-decoration-color: #00d7ff\">None</span>, <span style=\"color: #00af00; text-decoration-color: #00af00\">1</span>)         │          <span style=\"color: #00af00; text-decoration-color: #00af00\">0</span> │ -                 │\n",
       "│ (<span style=\"color: #0087ff; text-decoration-color: #0087ff\">InputLayer</span>)        │                   │            │                   │\n",
       "├─────────────────────┼───────────────────┼────────────┼───────────────────┤\n",
       "│ ctc (<span style=\"color: #0087ff; text-decoration-color: #0087ff\">Lambda</span>)        │ (<span style=\"color: #00d7ff; text-decoration-color: #00d7ff\">None</span>, <span style=\"color: #00af00; text-decoration-color: #00af00\">1</span>)         │          <span style=\"color: #00af00; text-decoration-color: #00af00\">0</span> │ softmax_output[<span style=\"color: #00af00; text-decoration-color: #00af00\">0</span>… │\n",
       "│                     │                   │            │ label_input[<span style=\"color: #00af00; text-decoration-color: #00af00\">0</span>][<span style=\"color: #00af00; text-decoration-color: #00af00\">0</span>… │\n",
       "│                     │                   │            │ input_length[<span style=\"color: #00af00; text-decoration-color: #00af00\">0</span>][<span style=\"color: #00af00; text-decoration-color: #00af00\">…</span> │\n",
       "│                     │                   │            │ label_length[<span style=\"color: #00af00; text-decoration-color: #00af00\">0</span>][<span style=\"color: #00af00; text-decoration-color: #00af00\">…</span> │\n",
       "└─────────────────────┴───────────────────┴────────────┴───────────────────┘\n",
       "</pre>\n"
      ],
      "text/plain": [
       "┏━━━━━━━━━━━━━━━━━━━━━┳━━━━━━━━━━━━━━━━━━━┳━━━━━━━━━━━━┳━━━━━━━━━━━━━━━━━━━┓\n",
       "┃\u001b[1m \u001b[0m\u001b[1mLayer (type)       \u001b[0m\u001b[1m \u001b[0m┃\u001b[1m \u001b[0m\u001b[1mOutput Shape     \u001b[0m\u001b[1m \u001b[0m┃\u001b[1m \u001b[0m\u001b[1m   Param #\u001b[0m\u001b[1m \u001b[0m┃\u001b[1m \u001b[0m\u001b[1mConnected to     \u001b[0m\u001b[1m \u001b[0m┃\n",
       "┡━━━━━━━━━━━━━━━━━━━━━╇━━━━━━━━━━━━━━━━━━━╇━━━━━━━━━━━━╇━━━━━━━━━━━━━━━━━━━┩\n",
       "│ image_input         │ (\u001b[38;5;45mNone\u001b[0m, \u001b[38;5;34m32\u001b[0m, \u001b[38;5;34m128\u001b[0m,   │          \u001b[38;5;34m0\u001b[0m │ -                 │\n",
       "│ (\u001b[38;5;33mInputLayer\u001b[0m)        │ \u001b[38;5;34m1\u001b[0m)                │            │                   │\n",
       "├─────────────────────┼───────────────────┼────────────┼───────────────────┤\n",
       "│ conv2d (\u001b[38;5;33mConv2D\u001b[0m)     │ (\u001b[38;5;45mNone\u001b[0m, \u001b[38;5;34m32\u001b[0m, \u001b[38;5;34m128\u001b[0m,   │        \u001b[38;5;34m320\u001b[0m │ image_input[\u001b[38;5;34m0\u001b[0m][\u001b[38;5;34m0\u001b[0m] │\n",
       "│                     │ \u001b[38;5;34m32\u001b[0m)               │            │                   │\n",
       "├─────────────────────┼───────────────────┼────────────┼───────────────────┤\n",
       "│ max_pooling2d       │ (\u001b[38;5;45mNone\u001b[0m, \u001b[38;5;34m16\u001b[0m, \u001b[38;5;34m64\u001b[0m,    │          \u001b[38;5;34m0\u001b[0m │ conv2d[\u001b[38;5;34m0\u001b[0m][\u001b[38;5;34m0\u001b[0m]      │\n",
       "│ (\u001b[38;5;33mMaxPooling2D\u001b[0m)      │ \u001b[38;5;34m32\u001b[0m)               │            │                   │\n",
       "├─────────────────────┼───────────────────┼────────────┼───────────────────┤\n",
       "│ conv2d_1 (\u001b[38;5;33mConv2D\u001b[0m)   │ (\u001b[38;5;45mNone\u001b[0m, \u001b[38;5;34m16\u001b[0m, \u001b[38;5;34m64\u001b[0m,    │     \u001b[38;5;34m18,496\u001b[0m │ max_pooling2d[\u001b[38;5;34m0\u001b[0m]… │\n",
       "│                     │ \u001b[38;5;34m64\u001b[0m)               │            │                   │\n",
       "├─────────────────────┼───────────────────┼────────────┼───────────────────┤\n",
       "│ max_pooling2d_1     │ (\u001b[38;5;45mNone\u001b[0m, \u001b[38;5;34m8\u001b[0m, \u001b[38;5;34m32\u001b[0m, \u001b[38;5;34m64\u001b[0m) │          \u001b[38;5;34m0\u001b[0m │ conv2d_1[\u001b[38;5;34m0\u001b[0m][\u001b[38;5;34m0\u001b[0m]    │\n",
       "│ (\u001b[38;5;33mMaxPooling2D\u001b[0m)      │                   │            │                   │\n",
       "├─────────────────────┼───────────────────┼────────────┼───────────────────┤\n",
       "│ conv2d_2 (\u001b[38;5;33mConv2D\u001b[0m)   │ (\u001b[38;5;45mNone\u001b[0m, \u001b[38;5;34m8\u001b[0m, \u001b[38;5;34m32\u001b[0m,     │     \u001b[38;5;34m73,856\u001b[0m │ max_pooling2d_1[\u001b[38;5;34m…\u001b[0m │\n",
       "│                     │ \u001b[38;5;34m128\u001b[0m)              │            │                   │\n",
       "├─────────────────────┼───────────────────┼────────────┼───────────────────┤\n",
       "│ max_pooling2d_2     │ (\u001b[38;5;45mNone\u001b[0m, \u001b[38;5;34m4\u001b[0m, \u001b[38;5;34m16\u001b[0m,     │          \u001b[38;5;34m0\u001b[0m │ conv2d_2[\u001b[38;5;34m0\u001b[0m][\u001b[38;5;34m0\u001b[0m]    │\n",
       "│ (\u001b[38;5;33mMaxPooling2D\u001b[0m)      │ \u001b[38;5;34m128\u001b[0m)              │            │                   │\n",
       "├─────────────────────┼───────────────────┼────────────┼───────────────────┤\n",
       "│ reshape (\u001b[38;5;33mReshape\u001b[0m)   │ (\u001b[38;5;45mNone\u001b[0m, \u001b[38;5;34m64\u001b[0m, \u001b[38;5;34m128\u001b[0m)   │          \u001b[38;5;34m0\u001b[0m │ max_pooling2d_2[\u001b[38;5;34m…\u001b[0m │\n",
       "├─────────────────────┼───────────────────┼────────────┼───────────────────┤\n",
       "│ bidirectional       │ (\u001b[38;5;45mNone\u001b[0m, \u001b[38;5;34m64\u001b[0m, \u001b[38;5;34m256\u001b[0m)   │    \u001b[38;5;34m263,168\u001b[0m │ reshape[\u001b[38;5;34m0\u001b[0m][\u001b[38;5;34m0\u001b[0m]     │\n",
       "│ (\u001b[38;5;33mBidirectional\u001b[0m)     │                   │            │                   │\n",
       "├─────────────────────┼───────────────────┼────────────┼───────────────────┤\n",
       "│ bidirectional_1     │ (\u001b[38;5;45mNone\u001b[0m, \u001b[38;5;34m64\u001b[0m, \u001b[38;5;34m256\u001b[0m)   │    \u001b[38;5;34m394,240\u001b[0m │ bidirectional[\u001b[38;5;34m0\u001b[0m]… │\n",
       "│ (\u001b[38;5;33mBidirectional\u001b[0m)     │                   │            │                   │\n",
       "├─────────────────────┼───────────────────┼────────────┼───────────────────┤\n",
       "│ softmax_output      │ (\u001b[38;5;45mNone\u001b[0m, \u001b[38;5;34m64\u001b[0m, \u001b[38;5;34m55\u001b[0m)    │     \u001b[38;5;34m14,135\u001b[0m │ bidirectional_1[\u001b[38;5;34m…\u001b[0m │\n",
       "│ (\u001b[38;5;33mDense\u001b[0m)             │                   │            │                   │\n",
       "├─────────────────────┼───────────────────┼────────────┼───────────────────┤\n",
       "│ label_input         │ (\u001b[38;5;45mNone\u001b[0m, \u001b[38;5;45mNone\u001b[0m)      │          \u001b[38;5;34m0\u001b[0m │ -                 │\n",
       "│ (\u001b[38;5;33mInputLayer\u001b[0m)        │                   │            │                   │\n",
       "├─────────────────────┼───────────────────┼────────────┼───────────────────┤\n",
       "│ input_length        │ (\u001b[38;5;45mNone\u001b[0m, \u001b[38;5;34m1\u001b[0m)         │          \u001b[38;5;34m0\u001b[0m │ -                 │\n",
       "│ (\u001b[38;5;33mInputLayer\u001b[0m)        │                   │            │                   │\n",
       "├─────────────────────┼───────────────────┼────────────┼───────────────────┤\n",
       "│ label_length        │ (\u001b[38;5;45mNone\u001b[0m, \u001b[38;5;34m1\u001b[0m)         │          \u001b[38;5;34m0\u001b[0m │ -                 │\n",
       "│ (\u001b[38;5;33mInputLayer\u001b[0m)        │                   │            │                   │\n",
       "├─────────────────────┼───────────────────┼────────────┼───────────────────┤\n",
       "│ ctc (\u001b[38;5;33mLambda\u001b[0m)        │ (\u001b[38;5;45mNone\u001b[0m, \u001b[38;5;34m1\u001b[0m)         │          \u001b[38;5;34m0\u001b[0m │ softmax_output[\u001b[38;5;34m0\u001b[0m… │\n",
       "│                     │                   │            │ label_input[\u001b[38;5;34m0\u001b[0m][\u001b[38;5;34m0\u001b[0m… │\n",
       "│                     │                   │            │ input_length[\u001b[38;5;34m0\u001b[0m][\u001b[38;5;34m…\u001b[0m │\n",
       "│                     │                   │            │ label_length[\u001b[38;5;34m0\u001b[0m][\u001b[38;5;34m…\u001b[0m │\n",
       "└─────────────────────┴───────────────────┴────────────┴───────────────────┘\n"
      ]
     },
     "metadata": {},
     "output_type": "display_data"
    },
    {
     "data": {
      "text/html": [
       "<pre style=\"white-space:pre;overflow-x:auto;line-height:normal;font-family:Menlo,'DejaVu Sans Mono',consolas,'Courier New',monospace\"><span style=\"font-weight: bold\"> Total params: </span><span style=\"color: #00af00; text-decoration-color: #00af00\">764,215</span> (2.92 MB)\n",
       "</pre>\n"
      ],
      "text/plain": [
       "\u001b[1m Total params: \u001b[0m\u001b[38;5;34m764,215\u001b[0m (2.92 MB)\n"
      ]
     },
     "metadata": {},
     "output_type": "display_data"
    },
    {
     "data": {
      "text/html": [
       "<pre style=\"white-space:pre;overflow-x:auto;line-height:normal;font-family:Menlo,'DejaVu Sans Mono',consolas,'Courier New',monospace\"><span style=\"font-weight: bold\"> Trainable params: </span><span style=\"color: #00af00; text-decoration-color: #00af00\">764,215</span> (2.92 MB)\n",
       "</pre>\n"
      ],
      "text/plain": [
       "\u001b[1m Trainable params: \u001b[0m\u001b[38;5;34m764,215\u001b[0m (2.92 MB)\n"
      ]
     },
     "metadata": {},
     "output_type": "display_data"
    },
    {
     "data": {
      "text/html": [
       "<pre style=\"white-space:pre;overflow-x:auto;line-height:normal;font-family:Menlo,'DejaVu Sans Mono',consolas,'Courier New',monospace\"><span style=\"font-weight: bold\"> Non-trainable params: </span><span style=\"color: #00af00; text-decoration-color: #00af00\">0</span> (0.00 B)\n",
       "</pre>\n"
      ],
      "text/plain": [
       "\u001b[1m Non-trainable params: \u001b[0m\u001b[38;5;34m0\u001b[0m (0.00 B)\n"
      ]
     },
     "metadata": {},
     "output_type": "display_data"
    }
   ],
   "source": [
    "# com classes count\n",
    "num_classes = len(char_set) + 1\n",
    "\n",
    "# Build the model\n",
    "input_shape = (32, 128, 1)  # Adjust based on your preprocessed image size\n",
    "ocr_model = build_ocr_model(input_shape, num_classes)\n",
    "\n",
    "# Compile the model with no specific loss function since it's handled by CTC\n",
    "ocr_model.compile(optimizer='adam')\n",
    "\n",
    "# Display the model architecture\n",
    "ocr_model.summary()\n"
   ]
  },
  {
   "cell_type": "code",
   "execution_count": null,
   "id": "4853cadc",
   "metadata": {
    "papermill": {
     "duration": 0.005875,
     "end_time": "2024-09-05T10:08:02.435890",
     "exception": false,
     "start_time": "2024-09-05T10:08:02.430015",
     "status": "completed"
    },
    "tags": []
   },
   "outputs": [],
   "source": []
  },
  {
   "cell_type": "code",
   "execution_count": null,
   "id": "7b211d17",
   "metadata": {
    "papermill": {
     "duration": 0.005826,
     "end_time": "2024-09-05T10:08:02.447670",
     "exception": false,
     "start_time": "2024-09-05T10:08:02.441844",
     "status": "completed"
    },
    "tags": []
   },
   "outputs": [],
   "source": []
  }
 ],
 "metadata": {
  "kaggle": {
   "accelerator": "nvidiaTeslaT4",
   "dataSources": [
    {
     "datasetId": 1081982,
     "sourceId": 1821108,
     "sourceType": "datasetVersion"
    }
   ],
   "dockerImageVersionId": 30762,
   "isGpuEnabled": true,
   "isInternetEnabled": true,
   "language": "python",
   "sourceType": "notebook"
  },
  "kernelspec": {
   "display_name": "Python 3",
   "language": "python",
   "name": "python3"
  },
  "language_info": {
   "codemirror_mode": {
    "name": "ipython",
    "version": 3
   },
   "file_extension": ".py",
   "mimetype": "text/x-python",
   "name": "python",
   "nbconvert_exporter": "python",
   "pygments_lexer": "ipython3",
   "version": "3.10.14"
  },
  "papermill": {
   "default_parameters": {},
   "duration": 50.728035,
   "end_time": "2024-09-05T10:08:05.012955",
   "environment_variables": {},
   "exception": null,
   "input_path": "__notebook__.ipynb",
   "output_path": "__notebook__.ipynb",
   "parameters": {},
   "start_time": "2024-09-05T10:07:14.284920",
   "version": "2.6.0"
  }
 },
 "nbformat": 4,
 "nbformat_minor": 5
}
